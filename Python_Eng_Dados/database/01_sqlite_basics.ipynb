{
 "cells": [
  {
   "cell_type": "code",
   "execution_count": 9,
   "metadata": {},
   "outputs": [],
   "source": [
    "import sqlite3"
   ]
  },
  {
   "cell_type": "code",
   "execution_count": 10,
   "metadata": {},
   "outputs": [],
   "source": [
    "conn = sqlite3.connect('./database/sqlite/test.db') # criará o database caso não exista"
   ]
  },
  {
   "cell_type": "code",
   "execution_count": 11,
   "metadata": {},
   "outputs": [
    {
     "data": {
      "text/plain": [
       "<sqlite3.Cursor at 0x7fdf40c58b40>"
      ]
     },
     "execution_count": 11,
     "metadata": {},
     "output_type": "execute_result"
    }
   ],
   "source": [
    "conn.execute(\n",
    "    '''\n",
    "    CREATE TABLE IF NOT EXISTS EMPRESA\n",
    "    (\n",
    "        ID INT PRIMARY KEY NOT NULL,\n",
    "        NOME TEXT NOT NULL,\n",
    "        ENDERECO CHAR(50),\n",
    "        LIMITE_CREDITO REAL NOT NULL\n",
    "    );\n",
    "    '''\n",
    ")"
   ]
  },
  {
   "cell_type": "code",
   "execution_count": 12,
   "metadata": {},
   "outputs": [
    {
     "data": {
      "text/plain": [
       "<sqlite3.Cursor at 0x7fdf40c5a240>"
      ]
     },
     "execution_count": 12,
     "metadata": {},
     "output_type": "execute_result"
    }
   ],
   "source": [
    "conn.execute(\n",
    "    '''\n",
    "    INSERT INTO EMPRESA (ID, NOME, ENDERECO, LIMITE_CREDITO)\n",
    "    VALUES (1, 'Empresa_x', 'BRAZIL', 20000.00);\n",
    "    '''\n",
    ")"
   ]
  },
  {
   "cell_type": "code",
   "execution_count": 13,
   "metadata": {},
   "outputs": [
    {
     "data": {
      "text/plain": [
       "<sqlite3.Cursor at 0x7fdf40c587c0>"
      ]
     },
     "execution_count": 13,
     "metadata": {},
     "output_type": "execute_result"
    }
   ],
   "source": [
    "conn.execute(\n",
    "    '''\n",
    "    INSERT INTO EMPRESA (ID, NOME, ENDERECO, LIMITE_CREDITO)\n",
    "    VALUES (2, 'Empresa_Y', 'BRAZIL', 25000.00);\n",
    "    '''\n",
    ")"
   ]
  },
  {
   "cell_type": "code",
   "execution_count": 14,
   "metadata": {},
   "outputs": [
    {
     "data": {
      "text/plain": [
       "<sqlite3.Cursor at 0x7fdf40c581c0>"
      ]
     },
     "execution_count": 14,
     "metadata": {},
     "output_type": "execute_result"
    }
   ],
   "source": [
    "conn.execute(\n",
    "    '''\n",
    "    INSERT INTO EMPRESA (ID, NOME, ENDERECO, LIMITE_CREDITO)\n",
    "    VALUES (3, 'Empresa_h', 'BRAZIL', 20000.00);\n",
    "    '''\n",
    ")"
   ]
  },
  {
   "cell_type": "code",
   "execution_count": 15,
   "metadata": {},
   "outputs": [
    {
     "data": {
      "text/plain": [
       "<sqlite3.Cursor at 0x7fdf40c58940>"
      ]
     },
     "execution_count": 15,
     "metadata": {},
     "output_type": "execute_result"
    }
   ],
   "source": [
    "conn.execute(\n",
    "    '''\n",
    "    INSERT INTO EMPRESA (ID, NOME, ENDERECO, LIMITE_CREDITO)\n",
    "    VALUES (4, 'Empresa_R', 'BRAZIL', 20005.00);\n",
    "    '''\n",
    ")"
   ]
  },
  {
   "cell_type": "code",
   "execution_count": 16,
   "metadata": {},
   "outputs": [
    {
     "name": "stdout",
     "output_type": "stream",
     "text": [
      "row: (1, 'Empresa_x', 'BRAZIL', 20000.0)\n",
      "row: (2, 'Empresa_Y', 'BRAZIL', 25000.0)\n",
      "row: (3, 'Empresa_h', 'BRAZIL', 20000.0)\n",
      "row: (4, 'Empresa_R', 'BRAZIL', 20005.0)\n"
     ]
    }
   ],
   "source": [
    "cursor = conn.execute(\"SELECT id, nome, endereco, limite_credito FROM EMPRESA\")\n",
    "for row in cursor:\n",
    "    print(f\"row: {row}\")\n",
    "\n",
    "conn.commit()"
   ]
  },
  {
   "cell_type": "code",
   "execution_count": null,
   "metadata": {},
   "outputs": [],
   "source": [
    "conn.close()"
   ]
  }
 ],
 "metadata": {
  "kernelspec": {
   "display_name": "Python 3",
   "language": "python",
   "name": "python3"
  },
  "language_info": {
   "codemirror_mode": {
    "name": "ipython",
    "version": 3
   },
   "file_extension": ".py",
   "mimetype": "text/x-python",
   "name": "python",
   "nbconvert_exporter": "python",
   "pygments_lexer": "ipython3",
   "version": "3.12.2"
  },
  "orig_nbformat": 4
 },
 "nbformat": 4,
 "nbformat_minor": 2
}
