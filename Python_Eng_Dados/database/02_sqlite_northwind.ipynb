{
 "cells": [
  {
   "cell_type": "code",
   "execution_count": 4,
   "metadata": {},
   "outputs": [],
   "source": [
    "import sqlite3"
   ]
  },
  {
   "cell_type": "code",
   "execution_count": 5,
   "metadata": {},
   "outputs": [],
   "source": [
    "from pprint import pprint"
   ]
  },
  {
   "cell_type": "code",
   "execution_count": 7,
   "metadata": {},
   "outputs": [],
   "source": [
    "conn = sqlite3.connect('./sqlite/northwind.db')"
   ]
  },
  {
   "cell_type": "code",
   "execution_count": 11,
   "metadata": {},
   "outputs": [
    {
     "name": "stdout",
     "output_type": "stream",
     "text": [
      "[('Categories',),\n",
      " ('sqlite_sequence',),\n",
      " ('CustomerCustomerDemo',),\n",
      " ('CustomerDemographics',),\n",
      " ('Customers',),\n",
      " ('Employees',),\n",
      " ('EmployeeTerritories',),\n",
      " ('Order Details',),\n",
      " ('Orders',),\n",
      " ('Products',),\n",
      " ('Regions',),\n",
      " ('Shippers',),\n",
      " ('Suppliers',),\n",
      " ('Territories',),\n",
      " ('OrdersByCityCount',)]\n"
     ]
    }
   ],
   "source": [
    "cursor = conn.execute(\n",
    "    \"\"\"\n",
    "    SELECT name\n",
    "    FROM sqlite_master\n",
    "    WHERE type='table';\n",
    "    \"\"\"\n",
    ")\n",
    "tables = cursor.fetchall()\n",
    "pprint(tables)"
   ]
  },
  {
   "cell_type": "code",
   "execution_count": 12,
   "metadata": {},
   "outputs": [
    {
     "name": "stdout",
     "output_type": "stream",
     "text": [
      "[('CREATE TABLE [Orders](\\n'\n",
      "  '   [OrderID]INTEGER NOT NULL PRIMARY KEY AUTOINCREMENT,\\n'\n",
      "  '   [CustomerID]TEXT,\\n'\n",
      "  '   [EmployeeID]INTEGER,\\n'\n",
      "  '   [OrderDate]DATETIME,\\n'\n",
      "  '   [RequiredDate]DATETIME,\\n'\n",
      "  '   [ShippedDate]DATETIME,\\n'\n",
      "  '   [ShipVia]INTEGER,\\n'\n",
      "  '   [Freight]NUMERIC DEFAULT 0,\\n'\n",
      "  '   [ShipName]TEXT,\\n'\n",
      "  '   [ShipAddress]TEXT,\\n'\n",
      "  '   [ShipCity]TEXT,\\n'\n",
      "  '   [ShipRegion]TEXT,\\n'\n",
      "  '   [ShipPostalCode]TEXT,\\n'\n",
      "  '   [ShipCountry]TEXT,\\n'\n",
      "  '   FOREIGN KEY ([EmployeeID]) REFERENCES [Employees] ([EmployeeID]) \\n'\n",
      "  '\\t\\tON DELETE NO ACTION ON UPDATE NO ACTION,\\n'\n",
      "  '\\tFOREIGN KEY ([CustomerID]) REFERENCES [Customers] ([CustomerID]) \\n'\n",
      "  '\\t\\tON DELETE NO ACTION ON UPDATE NO ACTION,\\n'\n",
      "  '\\tFOREIGN KEY ([ShipVia]) REFERENCES [Shippers] ([ShipperID]) \\n'\n",
      "  '\\t\\tON DELETE NO ACTION ON UPDATE NO ACTION\\n'\n",
      "  ')',)]\n"
     ]
    }
   ],
   "source": [
    "cursor = conn.execute(\"\"\"\n",
    "   SELECT sql\n",
    "     FROM sqlite_master\n",
    "    WHERE type = 'table' \n",
    "      AND name = 'Orders'\n",
    "   \"\"\"\n",
    ")\n",
    "orders_schema = cursor.fetchall()\n",
    "pprint(orders_schema)"
   ]
  },
  {
   "cell_type": "code",
   "execution_count": 13,
   "metadata": {},
   "outputs": [
    {
     "name": "stdout",
     "output_type": "stream",
     "text": [
      "\n",
      "row: (10248, 'VINET', 5, '2016-07-04', '2016-08-01', '2016-07-16', 3, 32.38, 'Vins et alcools Chevalier', '59 rue de l-Abbaye', 'Reims', 'Western Europe', '51100', 'France')\n",
      "\n",
      "row: (10249, 'TOMSP', 6, '2016-07-05', '2016-08-16', '2016-07-10', 1, 11.61, 'Toms Spezialitäten', 'Luisenstr. 48', 'Münster', 'Western Europe', '44087', 'Germany')\n",
      "\n",
      "row: (10250, 'HANAR', 4, '2016-07-08', '2016-08-05', '2016-07-12', 2, 65.83, 'Hanari Carnes', 'Rua do Paço, 67', 'Rio de Janeiro', 'South America', '05454-876', 'Brazil')\n",
      "\n",
      "row: (10251, 'VICTE', 3, '2016-07-08', '2016-08-05', '2016-07-15', 1, 41.34, 'Victuailles en stock', '2, rue du Commerce', 'Lyon', 'Western Europe', '69004', 'France')\n",
      "\n",
      "row: (10252, 'SUPRD', 4, '2016-07-09', '2016-08-06', '2016-07-11', 2, 51.3, 'Suprêmes délices', 'Boulevard Tirou, 255', 'Charleroi', 'Western Europe', 'B-6000', 'Belgium')\n"
     ]
    }
   ],
   "source": [
    "cursor = conn.execute(\"SELECT * from Orders limit 5;\")\n",
    "\n",
    "for row in cursor:\n",
    "   print(f\"\\nrow: {row}\")"
   ]
  },
  {
   "cell_type": "code",
   "execution_count": 14,
   "metadata": {},
   "outputs": [
    {
     "name": "stdout",
     "output_type": "stream",
     "text": [
      "row: (10248, 'VINET', '2016-07-04')\n",
      "row: (10249, 'TOMSP', '2016-07-05')\n",
      "row: (10250, 'HANAR', '2016-07-08')\n",
      "row: (10251, 'VICTE', '2016-07-08')\n",
      "row: (10252, 'SUPRD', '2016-07-09')\n"
     ]
    }
   ],
   "source": [
    "cursor = conn.execute(\"\"\"\n",
    "   SELECT OrderID,\n",
    "          CustomerID,\n",
    "          OrderDate\n",
    "     from Orders\n",
    "    limit 5;\n",
    "   \"\"\")\n",
    "\n",
    "for row in cursor:\n",
    "   print(f\"row: {row}\")"
   ]
  },
  {
   "cell_type": "code",
   "execution_count": 15,
   "metadata": {},
   "outputs": [
    {
     "data": {
      "text/plain": [
       "<function Connection.close()>"
      ]
     },
     "execution_count": 15,
     "metadata": {},
     "output_type": "execute_result"
    }
   ],
   "source": [
    "conn.close"
   ]
  }
 ],
 "metadata": {
  "kernelspec": {
   "display_name": "Python 3",
   "language": "python",
   "name": "python3"
  },
  "language_info": {
   "codemirror_mode": {
    "name": "ipython",
    "version": 3
   },
   "file_extension": ".py",
   "mimetype": "text/x-python",
   "name": "python",
   "nbconvert_exporter": "python",
   "pygments_lexer": "ipython3",
   "version": "3.12.2"
  },
  "orig_nbformat": 4
 },
 "nbformat": 4,
 "nbformat_minor": 2
}
